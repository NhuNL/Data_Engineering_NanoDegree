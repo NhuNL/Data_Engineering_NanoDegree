{
 "cells": [
  {
   "cell_type": "markdown",
   "metadata": {},
   "source": [
    "# Part I. ETL Pipeline for Pre-Processing the Files"
   ]
  },
  {
   "cell_type": "markdown",
   "metadata": {},
   "source": [
    "## PLEASE RUN THE FOLLOWING CODE FOR PRE-PROCESSING THE FILES"
   ]
  },
  {
   "cell_type": "markdown",
   "metadata": {},
   "source": [
    "#### Import Python packages "
   ]
  },
  {
   "cell_type": "code",
   "execution_count": 1,
   "metadata": {},
   "outputs": [],
   "source": [
    "# Import Python packages \n",
    "import pandas as pd\n",
    "import cassandra\n",
    "import re\n",
    "import os\n",
    "import glob\n",
    "import numpy as np\n",
    "import json\n",
    "import csv"
   ]
  },
  {
   "cell_type": "markdown",
   "metadata": {},
   "source": [
    "#### Creating list of filepaths to process original event csv data files"
   ]
  },
  {
   "cell_type": "code",
   "execution_count": 60,
   "metadata": {},
   "outputs": [
    {
     "name": "stdout",
     "output_type": "stream",
     "text": [
      "/home/workspace\n"
     ]
    },
    {
     "data": {
      "text/plain": [
       "['/home/workspace/event_data/2018-11-18-events.csv',\n",
       " '/home/workspace/event_data/2018-11-15-events.csv',\n",
       " '/home/workspace/event_data/2018-11-16-events.csv',\n",
       " '/home/workspace/event_data/2018-11-09-events.csv',\n",
       " '/home/workspace/event_data/2018-11-11-events.csv',\n",
       " '/home/workspace/event_data/2018-11-17-events.csv',\n",
       " '/home/workspace/event_data/2018-11-14-events.csv',\n",
       " '/home/workspace/event_data/2018-11-02-events.csv',\n",
       " '/home/workspace/event_data/2018-11-27-events.csv',\n",
       " '/home/workspace/event_data/2018-11-13-events.csv',\n",
       " '/home/workspace/event_data/2018-11-26-events.csv',\n",
       " '/home/workspace/event_data/2018-11-03-events.csv',\n",
       " '/home/workspace/event_data/2018-11-19-events.csv',\n",
       " '/home/workspace/event_data/2018-11-25-events.csv',\n",
       " '/home/workspace/event_data/2018-11-04-events.csv',\n",
       " '/home/workspace/event_data/2018-11-29-events.csv',\n",
       " '/home/workspace/event_data/2018-11-01-events.csv',\n",
       " '/home/workspace/event_data/2018-11-06-events.csv',\n",
       " '/home/workspace/event_data/2018-11-24-events.csv',\n",
       " '/home/workspace/event_data/2018-11-22-events.csv',\n",
       " '/home/workspace/event_data/2018-11-30-events.csv',\n",
       " '/home/workspace/event_data/2018-11-10-events.csv',\n",
       " '/home/workspace/event_data/2018-11-28-events.csv',\n",
       " '/home/workspace/event_data/2018-11-07-events.csv',\n",
       " '/home/workspace/event_data/2018-11-21-events.csv',\n",
       " '/home/workspace/event_data/2018-11-08-events.csv',\n",
       " '/home/workspace/event_data/2018-11-05-events.csv',\n",
       " '/home/workspace/event_data/2018-11-23-events.csv',\n",
       " '/home/workspace/event_data/2018-11-12-events.csv',\n",
       " '/home/workspace/event_data/2018-11-20-events.csv']"
      ]
     },
     "execution_count": 60,
     "metadata": {},
     "output_type": "execute_result"
    }
   ],
   "source": [
    "# checking your current working directory\n",
    "print(os.getcwd())\n",
    "\n",
    "# Get your current folder and subfolder event data\n",
    "filepath = os.getcwd() + '/event_data'\n",
    "\n",
    "path_list = []\n",
    "\n",
    "# Create a for loop to create a list of files and collect each filepath\n",
    "for root, dirs, files in os.walk(filepath):\n",
    "    # join the file path and roots with the subdirectories using glob\n",
    "    file_path_list = glob.glob(os.path.join(root,'*'))\n",
    "    path_list.append(file_path_list)\n",
    "    #print(file_path_list)\n",
    "path_list = path_list[0]\n",
    "path_list\n",
    "\n",
    "\n"
   ]
  },
  {
   "cell_type": "code",
   "execution_count": 61,
   "metadata": {},
   "outputs": [
    {
     "name": "stdout",
     "output_type": "stream",
     "text": [
      "/home/workspace/event_data/2018-11-18-events.csv\n",
      "/home/workspace/event_data/2018-11-15-events.csv\n",
      "/home/workspace/event_data/2018-11-16-events.csv\n",
      "/home/workspace/event_data/2018-11-09-events.csv\n",
      "/home/workspace/event_data/2018-11-11-events.csv\n",
      "/home/workspace/event_data/2018-11-17-events.csv\n",
      "/home/workspace/event_data/2018-11-14-events.csv\n",
      "/home/workspace/event_data/2018-11-02-events.csv\n",
      "/home/workspace/event_data/2018-11-27-events.csv\n",
      "/home/workspace/event_data/2018-11-13-events.csv\n",
      "/home/workspace/event_data/2018-11-26-events.csv\n",
      "/home/workspace/event_data/2018-11-03-events.csv\n",
      "/home/workspace/event_data/2018-11-19-events.csv\n",
      "/home/workspace/event_data/2018-11-25-events.csv\n",
      "/home/workspace/event_data/2018-11-04-events.csv\n",
      "/home/workspace/event_data/2018-11-29-events.csv\n",
      "/home/workspace/event_data/2018-11-01-events.csv\n",
      "/home/workspace/event_data/2018-11-06-events.csv\n",
      "/home/workspace/event_data/2018-11-24-events.csv\n",
      "/home/workspace/event_data/2018-11-22-events.csv\n",
      "/home/workspace/event_data/2018-11-30-events.csv\n",
      "/home/workspace/event_data/2018-11-10-events.csv\n",
      "/home/workspace/event_data/2018-11-28-events.csv\n",
      "/home/workspace/event_data/2018-11-07-events.csv\n",
      "/home/workspace/event_data/2018-11-21-events.csv\n",
      "/home/workspace/event_data/2018-11-08-events.csv\n",
      "/home/workspace/event_data/2018-11-05-events.csv\n",
      "/home/workspace/event_data/2018-11-23-events.csv\n",
      "/home/workspace/event_data/2018-11-12-events.csv\n",
      "/home/workspace/event_data/2018-11-20-events.csv\n"
     ]
    }
   ],
   "source": [
    "for file in path_list:\n",
    "    print(file)"
   ]
  },
  {
   "cell_type": "markdown",
   "metadata": {},
   "source": [
    "#### Processing the files to create the data file csv that will be used for Apache Casssandra tables"
   ]
  },
  {
   "cell_type": "code",
   "execution_count": null,
   "metadata": {},
   "outputs": [],
   "source": []
  },
  {
   "cell_type": "code",
   "execution_count": 63,
   "metadata": {},
   "outputs": [
    {
     "name": "stdout",
     "output_type": "stream",
     "text": [
      "8056\n"
     ]
    }
   ],
   "source": [
    "# initiating an empty list of rows that will be generated from each file\n",
    "full_data_rows_list = [] \n",
    "    \n",
    "# for every filepath in the file path list \n",
    "for f in path_list:\n",
    "\n",
    "# reading csv file \n",
    "    with open(f, 'r', encoding = 'utf8', newline='') as csvfile: \n",
    "        # creating a csv reader object \n",
    "        csvreader = csv.reader(csvfile) \n",
    "        next(csvreader)\n",
    "        \n",
    " # extracting each data row one by one and append it        \n",
    "        for line in csvreader:\n",
    "            #print(line)\n",
    "            full_data_rows_list.append(line) \n",
    "            \n",
    "# uncomment the code below if you would like to get total number of rows \n",
    "print(len(full_data_rows_list))\n",
    "# uncomment the code below if you would like to check to see what the list of event data rows will look like\n",
    "#print(full_data_rows_list)\n",
    "\n",
    "# creating a smaller event data csv file called event_datafile_full csv that will be used to insert data into the \\\n",
    "# Apache Cassandra tables\n",
    "csv.register_dialect('myDialect', quoting=csv.QUOTE_ALL, skipinitialspace=True)\n",
    "\n",
    "with open('event_datafile_new.csv', 'w', encoding = 'utf8', newline='') as f:\n",
    "    writer = csv.writer(f, dialect='myDialect')\n",
    "    writer.writerow(['artist','firstName','gender','itemInSession','lastName','length',\\\n",
    "                'level','location','sessionId','song','userId'])\n",
    "    for row in full_data_rows_list:\n",
    "        if (row[0] == ''):\n",
    "            continue\n",
    "        writer.writerow((row[0], row[2], row[3], row[4], row[5], row[6], row[7], row[8], row[12], row[13], row[16]))\n"
   ]
  },
  {
   "cell_type": "code",
   "execution_count": 64,
   "metadata": {},
   "outputs": [
    {
     "name": "stdout",
     "output_type": "stream",
     "text": [
      "6821\n"
     ]
    }
   ],
   "source": [
    "# check the number of rows in your csv file\n",
    "with open('event_datafile_new.csv', 'r', encoding = 'utf8') as f:\n",
    "    print(sum(1 for line in f))"
   ]
  },
  {
   "cell_type": "markdown",
   "metadata": {},
   "source": [
    "# Part II. Complete the Apache Cassandra coding portion of your project. \n",
    "\n",
    "## Now you are ready to work with the CSV file titled <font color=red>event_datafile_new.csv</font>, located within the Workspace directory.  The event_datafile_new.csv contains the following columns: \n",
    "- artist \n",
    "- firstName of user\n",
    "- gender of user\n",
    "- item number in session\n",
    "- last name of user\n",
    "- length of the song\n",
    "- level (paid or free song)\n",
    "- location of the user\n",
    "- sessionId\n",
    "- song title\n",
    "- userId\n",
    "\n",
    "The image below is a screenshot of what the denormalized data should appear like in the <font color=red>**event_datafile_new.csv**</font> after the code above is run:<br>\n",
    "\n",
    "<img src=\"images/image_event_datafile_new.jpg\">"
   ]
  },
  {
   "cell_type": "markdown",
   "metadata": {},
   "source": [
    "## Begin writing your Apache Cassandra code in the cells below"
   ]
  },
  {
   "cell_type": "markdown",
   "metadata": {},
   "source": [
    "#### Creating a Cluster"
   ]
  },
  {
   "cell_type": "code",
   "execution_count": 65,
   "metadata": {},
   "outputs": [],
   "source": [
    "# This should make a connection to a Cassandra instance your local machine \n",
    "# (127.0.0.1)\n",
    "\n",
    "from cassandra.cluster import Cluster\n",
    "cluster = Cluster(['127.0.0.1'])\n",
    "\n",
    "# To establish connection and begin executing queries, need a session\n",
    "session = cluster.connect()"
   ]
  },
  {
   "cell_type": "markdown",
   "metadata": {},
   "source": [
    "#### Create Keyspace"
   ]
  },
  {
   "cell_type": "code",
   "execution_count": 66,
   "metadata": {},
   "outputs": [],
   "source": [
    "# TO-DO: Create a Keyspace (Sparkify)\n",
    "\n",
    "create_keyspace = \"\"\"CREATE KEYSPACE IF NOT EXISTS Sparkify\n",
    "                             WITH REPLICATION = { 'class' : 'SimpleStrategy', 'replication_factor' : 1 }\"\"\"\n",
    "\n",
    "try:\n",
    "    session.execute(create_keyspace)\n",
    "except Exception as e:\n",
    "    print(e)"
   ]
  },
  {
   "cell_type": "markdown",
   "metadata": {},
   "source": [
    "#### Set Keyspace"
   ]
  },
  {
   "cell_type": "code",
   "execution_count": 67,
   "metadata": {},
   "outputs": [],
   "source": [
    "# TO-DO: Set KEYSPACE to the keyspace specified above\n",
    "set_keyspace = \"USE Sparkify\"\n",
    "\n",
    "try:\n",
    "    session.execute(set_keyspace)\n",
    "except Exception as e:\n",
    "    print(e)"
   ]
  },
  {
   "cell_type": "markdown",
   "metadata": {},
   "source": [
    "### Now we need to create tables to run the following queries. Remember, with Apache Cassandra you model the database tables on the queries you want to run."
   ]
  },
  {
   "cell_type": "markdown",
   "metadata": {},
   "source": [
    "## Create queries to ask the following three questions of the data\n",
    "\n",
    "### 1. Give me the artist, song title and song's length in the music app history that was heard during  sessionId = 338, and itemInSession  = 4\n",
    "\n",
    "\n",
    "### 2. Give me only the following: name of artist, song (sorted by itemInSession) and user (first and last name) for userid = 10, sessionid = 182\n",
    "    \n",
    "\n",
    "### 3. Give me every user name (first and last) in my music app history who listened to the song 'All Hands Against His Own'\n",
    "\n",
    "\n"
   ]
  },
  {
   "cell_type": "code",
   "execution_count": 116,
   "metadata": {},
   "outputs": [],
   "source": [
    "## TO-DO: Query 1:  Give me the artist, song title and song's length in the music app history that was heard during \\\n",
    "## sessionId = 338, and itemInSession = 4\n",
    "\n",
    "query = \"CREATE TABLE IF NOT EXISTS album_library \"\n",
    "query = query + \"(sessionId text, itemInSession int, song text, artist text, length float, PRIMARY KEY (sessionId, artist, song))\"\n",
    "try:\n",
    "    session.execute(query)\n",
    "except Exception as e:\n",
    "    print(e)\n",
    "\n"
   ]
  },
  {
   "cell_type": "code",
   "execution_count": 123,
   "metadata": {},
   "outputs": [
    {
     "data": {
      "text/plain": [
       "<cassandra.cluster.ResultSet at 0x7f9a369635c0>"
      ]
     },
     "execution_count": 123,
     "metadata": {},
     "output_type": "execute_result"
    }
   ],
   "source": [
    "create_statement =  \"\"\"CREATE TABLE IF NOT EXISTS song_data_by_session (sessionId INT,\n",
    "        itemInSession INT,\n",
    "        artist TEXT,\n",
    "        song TEXT,\n",
    "        length DOUBLE,\n",
    "        PRIMARY KEY ((sessionId, itemInSession)))\"\"\"\n",
    "session.execute(create_statement)\n",
    "\n"
   ]
  },
  {
   "cell_type": "code",
   "execution_count": 125,
   "metadata": {
    "scrolled": false
   },
   "outputs": [],
   "source": [
    "# We have provided part of the code to set up the CSV file. Please complete the Apache Cassandra code below#\n",
    "file = 'event_datafile_new.csv'\n",
    "\n",
    "with open(file, encoding = 'utf8') as f:\n",
    "    csvreader = csv.reader(f)\n",
    "    next(csvreader) # skip header\n",
    "    for line in csvreader:\n",
    "        \n",
    "## TO-DO: Assign the INSERT statements into the `query` variable\n",
    "        query = \"\"\"INSERT INTO song_data_by_session (sessionId, itemInSession, artist, song, length) \"\"\"\n",
    "        query = query + \"VALUES  (%s, %s, %s, %s, %s)\"\n",
    "              \n",
    "        ## TO-DO: Assign which column element should be assigned for each column in the INSERT statement.        \n",
    "        ## For e.g., to INSERT artist_name and user first_name, you would change the code below to `line[0], line[1]`\n",
    "\n",
    "        session.execute(query, (int(line[8]), int(line[3]), line[0], line[9], float(line[5])))"
   ]
  },
  {
   "cell_type": "markdown",
   "metadata": {},
   "source": [
    "#### Do a SELECT to verify that the data have been inserted into each table"
   ]
  },
  {
   "cell_type": "code",
   "execution_count": 127,
   "metadata": {
    "scrolled": true
   },
   "outputs": [
    {
     "name": "stdout",
     "output_type": "stream",
     "text": [
      "Row(sessionid=338, iteminsession=4, artist='Faithless', length=495.3073, song='Music Matters (Mark Knight Dub)')\n"
     ]
    }
   ],
   "source": [
    "## TO-DO: Add in the SELECT statement to verify the data was entered into the table\n",
    "select_statement = \"select * from song_data_by_session where sessionId= %s and itemInSession= %s \"\n",
    "\n",
    "varify_data = session.execute(select_statement, (338, 4))\n",
    "\n",
    "for row in varify_data:\n",
    "    print (row)"
   ]
  },
  {
   "cell_type": "markdown",
   "metadata": {},
   "source": [
    "### COPY AND REPEAT THE ABOVE THREE CELLS FOR EACH OF THE THREE QUESTIONS"
   ]
  },
  {
   "cell_type": "code",
   "execution_count": 163,
   "metadata": {},
   "outputs": [
    {
     "data": {
      "text/plain": [
       "<cassandra.cluster.ResultSet at 0x7f9a368dbdd8>"
      ]
     },
     "execution_count": 163,
     "metadata": {},
     "output_type": "execute_result"
    }
   ],
   "source": [
    "## TO-DO: Query 2: Give me only the following: name of artist, song (sorted by itemInSession) \n",
    "## and user (first and last name)\\\n",
    "## for userid = 10, sessionid = 182\n",
    "\n",
    "# Create new table song by song by userid and session id\n",
    "create_statement2 =  \"\"\"CREATE TABLE IF NOT EXISTS song_by_userid_and_sessionid (userId INT, \n",
    "        sessionId INT,\n",
    "        itemInSession INT,\n",
    "        artist TEXT,\n",
    "        song TEXT,\n",
    "        firstName TEXT,\n",
    "        lastName TEXT,\n",
    "        PRIMARY KEY ((userId, sessionId), itemInSession))\"\"\"\n",
    "\n",
    "session.execute(create_statement2)\n",
    "\n"
   ]
  },
  {
   "cell_type": "code",
   "execution_count": 164,
   "metadata": {},
   "outputs": [],
   "source": [
    "\n",
    "with open(file, encoding = 'utf8') as f:\n",
    "    csvreader = csv.reader(f)\n",
    "    next(csvreader) # skip header\n",
    "    for line in csvreader:\n",
    "        \n",
    "        query = \"\"\"INSERT INTO song_by_userid_and_sessionid (userId, sessionId, itemInSession, artist, song,\n",
    "                   firstName, lastName ) \"\"\"\n",
    "        query = query + \" VALUES  (%s, %s, %s, %s, %s, %s, %s)\"\n",
    "        \n",
    "        session.execute(query, (int(line[10]), int(line[8]), int(line[3]), line[0], line[9], line[1], line[4]))\n",
    "            \n",
    "\n"
   ]
  },
  {
   "cell_type": "code",
   "execution_count": 166,
   "metadata": {},
   "outputs": [
    {
     "name": "stdout",
     "output_type": "stream",
     "text": [
      "Row(userid=10, sessionid=182, iteminsession=0, artist='Down To The Bone', firstname='Sylvie', lastname='Cruz', song=\"Keep On Keepin' On\")\n",
      "Row(userid=10, sessionid=182, iteminsession=1, artist='Three Drives', firstname='Sylvie', lastname='Cruz', song='Greece 2000')\n",
      "Row(userid=10, sessionid=182, iteminsession=2, artist='Sebastien Tellier', firstname='Sylvie', lastname='Cruz', song='Kilometer')\n",
      "Row(userid=10, sessionid=182, iteminsession=3, artist='Lonnie Gordon', firstname='Sylvie', lastname='Cruz', song='Catch You Baby (Steve Pitron & Max Sanna Radio Edit)')\n"
     ]
    }
   ],
   "source": [
    "### select statement for Query 2 above\n",
    "select_statement2 = \"select * from song_by_userid_and_sessionid where userId= %s and sessionId= %s \"\n",
    "\n",
    "varify_data2 = session.execute(select_statement2, (10, 182))\n",
    "\n",
    "for row in varify_data2:\n",
    "    print (row)"
   ]
  },
  {
   "cell_type": "code",
   "execution_count": 168,
   "metadata": {},
   "outputs": [
    {
     "data": {
      "text/plain": [
       "<cassandra.cluster.ResultSet at 0x7f9a36979c88>"
      ]
     },
     "execution_count": 168,
     "metadata": {},
     "output_type": "execute_result"
    }
   ],
   "source": [
    "## TO-DO: Query 3: Give me every user name (first and last) in my music app history \n",
    "## who listened to the song 'All Hands Against His Own'\n",
    "\n",
    "create_statement3 =  \"\"\"CREATE TABLE IF NOT EXISTS song_by_username (song TEXT,                \n",
    "        firstName TEXT,\n",
    "        lastName TEXT,\n",
    "        PRIMARY KEY (song, firstName, lastName))\"\"\"\n",
    "\n",
    "session.execute(create_statement3)\n",
    "\n",
    "\n",
    "                    "
   ]
  },
  {
   "cell_type": "code",
   "execution_count": 169,
   "metadata": {},
   "outputs": [],
   "source": [
    "with open(file, encoding = 'utf8') as f:\n",
    "    csvreader = csv.reader(f)\n",
    "    next(csvreader) # skip header\n",
    "    for line in csvreader:\n",
    "        \n",
    "        query3 = \"\"\"INSERT INTO song_by_username (song,\n",
    "                   firstName, lastName ) \"\"\"\n",
    "        query3 = query3 + \" VALUES  (%s, %s, %s)\"\n",
    "        \n",
    "        session.execute(query3, (line[9], line[1], line[4]))"
   ]
  },
  {
   "cell_type": "code",
   "execution_count": 172,
   "metadata": {},
   "outputs": [
    {
     "name": "stdout",
     "output_type": "stream",
     "text": [
      "Row(song='All Hands Against His Own', firstname='Jacqueline', lastname='Lynch')\n",
      "Row(song='All Hands Against His Own', firstname='Sara', lastname='Johnson')\n",
      "Row(song='All Hands Against His Own', firstname='Tegan', lastname='Levine')\n"
     ]
    }
   ],
   "source": [
    "### select statement for Query 3 above\n",
    "select_statement3 = \"select * from song_by_username where song = %s \"\n",
    "\n",
    "varify_data3 = session.execute(select_statement3, ( 'All Hands Against His Own',))\n",
    "\n",
    "for row in varify_data3:\n",
    "    print (row)"
   ]
  },
  {
   "cell_type": "markdown",
   "metadata": {},
   "source": [
    "### Drop the tables before closing out the sessions"
   ]
  },
  {
   "cell_type": "code",
   "execution_count": 4,
   "metadata": {},
   "outputs": [],
   "source": [
    "## TO-DO: Drop the table before closing out the sessions"
   ]
  },
  {
   "cell_type": "code",
   "execution_count": 173,
   "metadata": {},
   "outputs": [],
   "source": [
    "query = \"drop table song_by_username\"\n",
    "try:\n",
    "    rows = session.execute(query)\n",
    "except Exception as e:\n",
    "    print(e)\n"
   ]
  },
  {
   "cell_type": "code",
   "execution_count": 174,
   "metadata": {},
   "outputs": [],
   "source": [
    "query = \"drop table song_by_userid_and_sessionid\"\n",
    "try:\n",
    "    rows = session.execute(query)\n",
    "except Exception as e:\n",
    "    print(e)"
   ]
  },
  {
   "cell_type": "code",
   "execution_count": 175,
   "metadata": {},
   "outputs": [],
   "source": [
    "query = \"drop table song_data_by_session\"\n",
    "try:\n",
    "    rows = session.execute(query)\n",
    "except Exception as e:\n",
    "    print(e)"
   ]
  },
  {
   "cell_type": "markdown",
   "metadata": {},
   "source": [
    "### Close the session and cluster connection¶"
   ]
  },
  {
   "cell_type": "code",
   "execution_count": 176,
   "metadata": {},
   "outputs": [],
   "source": [
    "session.shutdown()\n",
    "cluster.shutdown()"
   ]
  },
  {
   "cell_type": "code",
   "execution_count": null,
   "metadata": {},
   "outputs": [],
   "source": []
  },
  {
   "cell_type": "code",
   "execution_count": null,
   "metadata": {},
   "outputs": [],
   "source": []
  }
 ],
 "metadata": {
  "kernelspec": {
   "display_name": "Python 3",
   "language": "python",
   "name": "python3"
  },
  "language_info": {
   "codemirror_mode": {
    "name": "ipython",
    "version": 3
   },
   "file_extension": ".py",
   "mimetype": "text/x-python",
   "name": "python",
   "nbconvert_exporter": "python",
   "pygments_lexer": "ipython3",
   "version": "3.6.3"
  }
 },
 "nbformat": 4,
 "nbformat_minor": 2
}
